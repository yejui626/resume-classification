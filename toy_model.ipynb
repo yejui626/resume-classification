{
 "cells": [
  {
   "cell_type": "markdown",
   "id": "90758baf",
   "metadata": {},
   "source": [
    "### 1. Extracting text from PDF"
   ]
  },
  {
   "cell_type": "code",
   "execution_count": null,
   "id": "f202b605",
   "metadata": {},
   "outputs": [
    {
     "name": "stdout",
     "output_type": "stream",
     "text": [
      "REGISTERED CLIENT SERVICE ASSOCIATE Summary To obtain a position where my years of experience in the client support environment and proven track record of maintaining and developing new businesses can be fully utilized. Results-oriented, high-energy, hands-on professional, with a successful record of accomplishments in client support.  Major strengths include strong leadership, excellent communication skills, strong team player, attention to detail, compliance in all regulated environment and supervisory skills. Skills Microsoft Word for Windows, Excel, Power Point, Access, Adobe PageMaker 6.5, Adobe Photoshop, Dreamweaver, Visio, Unix, Oracle 9i and Developer 2000. Experience Registered Client Service Associate   06/2012   to  Current   Company Name   City   ,  State Serve as primary contact to investment clients and prospects. Provide all operational services and support for client accounts. Provide Financial Advisors with presentations and seminars, aide in the implementation of marketing materials for prospects. Referring clients to other lines of banking division to enhance the relationship. Work with Financial Advisors to efficiently manage their book of business to increase their revenue for the bank. Conduct monthly audits to make sure that client objectives are in consideration with the investments being offered by the brokers. Work directly with the Financial Advisors to manage their book of business worth 40 million. Relationship Banker II   06/2004   to  06/2012   Company Name   City   ,  State Serve as primary contact to retail, commercial, and prospect clients. New account opening and cross sale of other banking products and services. Referring identified client needs to other lines of banking divisions. Proactively cold calling the clients to introduce the new products and services to increase branch revenue. Conduct meetings with commercial bankers and introduce the banking products to the commercial clients to enhance the banking relationship. Accomplishments. Ranked in top 10 among 82 reps for 7 straight years, exceeding sales quotas a month. Winner of best sales representative of the year reward 3 straight years and first quarter in 2011. Increased branch non-interest income by 10% with the sale of banking products and excellent client service skills. Increased the loan portfolio for the branch by $800,000 within 7 months. Increased net deposit portfolio for the branch by $1.7 million for the quarter by proven sales skills. Training new hires and branch personals to be experts in their job performance to be successful in the company. Private Banker   01/2003   to  01/2004   Company Name   City   ,  State Conduct outside sales calls to bring in new business. Performing operational tasks of the branch that includes reconciliation and monitoring of Federal Reserve account. Opening new consumer, business accounts and creating CIF's, entering new accounts in the system using Impact. Performing many tasks using Impact such as change of address, customer account information, posting stop payments, and loan information. Assisted in reception handling high volume customer calls. Technical Writer/ Web Developer   01/2000   to  01/2002   Company Name   City   ,  State Responsibilities include creating, editing and verifying product and service documentation. Documentation types include: hardware and software user and service manuals, online help and tutorials, programming/configuration/installation documents, requirement documents and reference documents. Work out various researches for giving the accurate description of the erection, installation, removal as well as maintenance of different genres of hardware. Supply wiring figures outlines along with part breakdown sketches for illustrations. Scripting interactive on-line help and tutorial packages. Installation and maintenance of computer, security, and telecommunications systems. Education and Training B.S   :  Computer Information Systems   2001   Strayer University   Computer Information Systems 1997   Northern Virginia Community College   DBA Training, Completed First DBA exam in India Series 7-General Securities Registered Representative   2016 Skills Dreamweaver, Adobe PageMaker 6.5, Adobe Photoshop, banking, book, cold calling, hardware, client, clients, DBA, Documentation, editing, Financial, investments, marketing materials, meetings, Access, Excel, Power Point, Windows, Microsoft Word, online help, Oracle 9, Developer 2000, outside sales, presentations, programming, reception, requirement, retail, sales skills, sales, Securities, seminars, Scripting, telecommunications, Unix, Visio, wiring\n"
     ]
    }
   ],
   "source": [
    "import os\n",
    "import PyPDF2\n",
    "\n",
    "def extract_text_from_pdf(pdf_path):\n",
    "    \"\"\"Extract text from a PDF using PyPDF2.\"\"\"\n",
    "    with open(pdf_path, \"rb\") as file:\n",
    "        reader = PyPDF2.PdfReader(file)\n",
    "        text = \" \".join([page.extract_text().replace(\"\\n\", \" \") for page in reader.pages if page.extract_text()]) # Replace \\n with space\n",
    "    return text\n",
    "\n",
    "def load_dataset(base_dir):\n",
    "    \"\"\"Load PDF files and extract text from each category.\"\"\"\n",
    "    data = {}\n",
    "\n",
    "    for category in os.listdir(base_dir):\n",
    "        folder_path = os.path.join(base_dir, category)\n",
    "        if os.path.isdir(folder_path):\n",
    "            data[category] = []\n",
    "            for file in os.listdir(folder_path):\n",
    "                if file.endswith(\".pdf\"):\n",
    "                    pdf_path = os.path.join(folder_path, file)\n",
    "                    text = extract_text_from_pdf(pdf_path)\n",
    "                    data[category].append(text)\n",
    "\n",
    "    return data\n",
    "\n",
    "# Load train dataset\n",
    "train_data = load_dataset(\"dataset_small/train\")\n",
    "test_data = load_dataset(\"dataset_small/test\")\n",
    "\n",
    "# Print a sample extracted text from BANKING category\n",
    "print(train_data[\"BANKING\"][0])\n"
   ]
  },
  {
   "cell_type": "markdown",
   "id": "07778641",
   "metadata": {},
   "source": [
    "### 2. Convert data into Pandas dataframe"
   ]
  },
  {
   "cell_type": "code",
   "execution_count": 21,
   "id": "fcef0a47",
   "metadata": {},
   "outputs": [
    {
     "name": "stdout",
     "output_type": "stream",
     "text": [
      "   Category                                        Resume_Text\n",
      "0   BANKING  REGISTERED CLIENT SERVICE ASSOCIATE Summary To...\n",
      "1   BANKING  VICE PRESIDENT Summary Seeking a Program/Proje...\n",
      "2   BANKING  OPERATIONS MANAGER Summary Experienced client ...\n",
      "3   BANKING  ACCOUNT RECEIVABLE Executive Summary Champion ...\n",
      "4   BANKING  MORTGAGE BANKING FORECLOSURE SPECIALIST Summar...\n",
      "5      CHEF  SOUS CHEF Work Experience Sous Chef   Jul 2010...\n",
      "6      CHEF  FOOD PREP CHEF Skills Highly skilled in cookin...\n",
      "7      CHEF  GENERAL MANAGER / EXECUTIVE CHEF Summary Dedic...\n",
      "8      CHEF  MANAGER AND EXECUTIVE CHEF Profile Results ori...\n",
      "9      CHEF  EXECUTIVE CHEF /CHEF MANAGER Experience Execut...\n",
      "10  TEACHER  READING TEACHER Summary I am a highly motivate...\n",
      "11  TEACHER  HISTORY TEACHER Professional Summary To be emp...\n",
      "12  TEACHER  TEACHER Summary Highly ethical, dependable, an...\n",
      "13  TEACHER  TEACHER Summary Talented early education profe...\n",
      "14  TEACHER  Kpandipou Koffi Summary Compassionate teaching...\n"
     ]
    }
   ],
   "source": [
    "import pandas as pd\n",
    "\n",
    "# Convert extracted resume text into structured format\n",
    "train_df = pd.DataFrame(train_data).melt(var_name=\"Category\", value_name=\"Resume_Text\")\n",
    "test_df = pd.DataFrame(test_data).melt(var_name=\"Category\", value_name=\"Resume_Text\")\n",
    "\n",
    "print(train_df)  # Sample preview"
   ]
  },
  {
   "cell_type": "markdown",
   "id": "f451e392",
   "metadata": {},
   "source": [
    "### 3. Data Preprocessing"
   ]
  },
  {
   "cell_type": "code",
   "execution_count": 27,
   "id": "91c20587",
   "metadata": {},
   "outputs": [
    {
     "name": "stderr",
     "output_type": "stream",
     "text": [
      "[nltk_data] Downloading package stopwords to\n",
      "[nltk_data]     C:\\Users\\shany\\AppData\\Roaming\\nltk_data...\n",
      "[nltk_data]   Package stopwords is already up-to-date!\n",
      "[nltk_data] Downloading package punkt to\n",
      "[nltk_data]     C:\\Users\\shany\\AppData\\Roaming\\nltk_data...\n",
      "[nltk_data]   Unzipping tokenizers\\punkt.zip.\n",
      "[nltk_data] Downloading package wordnet to\n",
      "[nltk_data]     C:\\Users\\shany\\AppData\\Roaming\\nltk_data...\n"
     ]
    },
    {
     "name": "stdout",
     "output_type": "stream",
     "text": [
      "registered client service associate summary obtain position year experience client support environment proven track record maintaining developing new business fully utilized result oriented high energy hand professional successful record accomplishment client support major strength include strong leadership excellent communication skill strong team player attention detail compliance regulated environment supervisory skill skill microsoft word window excel power point access adobe pagemaker adobe photoshop dreamweaver visio unix oracle developer experience registered client service associate current company name city state serve primary contact investment client prospect provide operational service support client account provide financial advisor presentation seminar aide implementation marketing material prospect referring client line banking division enhance relationship work financial advisor efficiently manage book business increase revenue bank conduct monthly audit make sure client objective consideration investment offered broker work directly financial advisor manage book business worth million relationship banker ii company name city state serve primary contact retail commercial prospect client new account opening cross sale banking product service referring identified client need line banking division proactively cold calling client introduce new product service increase branch revenue conduct meeting commercial banker introduce banking product commercial client enhance banking relationship accomplishment ranked top among rep straight year exceeding sale quota month winner best sale representative year reward straight year first quarter increased branch non interest income sale banking product excellent client service skill increased loan portfolio branch within month increased net deposit portfolio branch million quarter proven sale skill training new hire branch personal expert job performance successful company private banker company name city state conduct outside sale call bring new business performing operational task branch includes reconciliation monitoring federal reserve account opening new consumer business account creating cif entering new account system using impact performing many task using impact change address customer account information posting stop payment loan information assisted reception handling high volume customer call technical writer web developer company name city state responsibility include creating editing verifying product service documentation documentation type include hardware software user service manual online help tutorial programming configuration installation document requirement document reference document work various research giving accurate description erection installation removal well maintenance different genre hardware supply wiring figure outline along part breakdown sketch illustration scripting interactive line help tutorial package installation maintenance computer security telecommunication system education training b computer information system strayer university computer information system northern virginia community college dba training completed first dba exam india series general security registered representative skill dreamweaver adobe pagemaker adobe photoshop banking book cold calling hardware client client dba documentation editing financial investment marketing material meeting access excel power point window microsoft word online help oracle developer outside sale presentation programming reception requirement retail sale skill sale security seminar scripting telecommunication unix visio wiring\n"
     ]
    }
   ],
   "source": [
    "import re\n",
    "import nltk\n",
    "from nltk.corpus import stopwords\n",
    "from nltk.tokenize import word_tokenize\n",
    "from nltk.stem import WordNetLemmatizer\n",
    "\n",
    "# Ensure NLTK resources are downloaded\n",
    "nltk.download(\"stopwords\")\n",
    "nltk.download(\"punkt\")\n",
    "nltk.download(\"wordnet\")\n",
    "\n",
    "# Initialize the lemmatizer\n",
    "lemmatizer = WordNetLemmatizer()\n",
    "\n",
    "def clean_text(text):\n",
    "    \"\"\"Clean, preprocess, and lemmatize text.\"\"\"\n",
    "    if pd.isna(text):  # Handle missing values\n",
    "        return \"\"\n",
    "\n",
    "    # Remove special characters, numbers, and extra spaces\n",
    "    text = re.sub(r\"\\s+\", \" \", text)  # Remove extra spaces\n",
    "    text = re.sub(r\"\\W+\", \" \", text)  # Remove special characters\n",
    "    text = re.sub(r\"\\d+\", \" \", text)  # Remove numbers\n",
    "    \n",
    "    # Convert to lowercase and strip spaces\n",
    "    text = text.lower().strip()\n",
    "    \n",
    "    # Tokenize and remove stopwords\n",
    "    tokens = word_tokenize(text)\n",
    "    stop_words = set(stopwords.words(\"english\"))\n",
    "    filtered_tokens = [word for word in tokens if word not in stop_words]\n",
    "    \n",
    "    # Lemmatize tokens\n",
    "    lemmatized_tokens = [lemmatizer.lemmatize(word) for word in filtered_tokens]\n",
    "    \n",
    "    return \" \".join(lemmatized_tokens)\n",
    "\n",
    "# Apply text cleaning\n",
    "train_df[\"Cleaned_Text\"] = train_df[\"Resume_Text\"].apply(clean_text)\n",
    "test_df[\"Cleaned_Text\"] = test_df[\"Resume_Text\"].apply(clean_text)\n",
    "\n",
    "print(train_df['Cleaned_Text'][0])  # Verify cleaned text"
   ]
  },
  {
   "cell_type": "markdown",
   "id": "77e93c6e",
   "metadata": {},
   "source": [
    "### 4. Building LSTM model"
   ]
  },
  {
   "cell_type": "code",
   "execution_count": 1,
   "id": "be85ee38",
   "metadata": {},
   "outputs": [],
   "source": [
    "import torch\n",
    "import torch.nn as nn\n",
    "import torch.optim as optim\n",
    "from torch.utils.data import Dataset, DataLoader\n",
    "from sklearn.preprocessing import LabelEncoder\n",
    "from sklearn.model_selection import train_test_split\n",
    "from tensorflow.keras.preprocessing.text import Tokenizer\n",
    "from tensorflow.keras.preprocessing.sequence import pad_sequences\n",
    "import pandas as pd\n",
    "import numpy as np"
   ]
  },
  {
   "cell_type": "code",
   "execution_count": 29,
   "id": "3e230408",
   "metadata": {},
   "outputs": [],
   "source": [
    "# Load preprocessed text and labels\n",
    "X_train, y_train = train_df[\"Cleaned_Text\"], train_df[\"Category\"]\n",
    "X_test, y_test = test_df[\"Cleaned_Text\"], test_df[\"Category\"]"
   ]
  },
  {
   "cell_type": "code",
   "execution_count": 30,
   "id": "1a6e7b01",
   "metadata": {},
   "outputs": [
    {
     "name": "stdout",
     "output_type": "stream",
     "text": [
      "Category Label Mapping: {'BANKING': np.int64(0), 'CHEF': np.int64(1), 'TEACHER': np.int64(2)}\n"
     ]
    }
   ],
   "source": [
    "label_encoder = LabelEncoder()\n",
    "y_train_encoded = label_encoder.fit_transform(y_train)\n",
    "y_test_encoded = label_encoder.transform(y_test)\n",
    "\n",
    "# Get label mapping\n",
    "label_mapping = dict(zip(label_encoder.classes_, label_encoder.transform(label_encoder.classes_)))\n",
    "print(\"Category Label Mapping:\", label_mapping)"
   ]
  },
  {
   "cell_type": "code",
   "execution_count": 31,
   "id": "b7e2e07b",
   "metadata": {},
   "outputs": [
    {
     "name": "stdout",
     "output_type": "stream",
     "text": [
      "Shape of Training Data: (15, 875)\n",
      "Shape of Testing Data: (6, 875)\n"
     ]
    }
   ],
   "source": [
    "# Tokenize the text\n",
    "tokenizer = Tokenizer(num_words=5000)  # Limit vocabulary size\n",
    "tokenizer.fit_on_texts(X_train)\n",
    "\n",
    "# Convert text into sequences\n",
    "X_train_seq = tokenizer.texts_to_sequences(X_train)\n",
    "X_test_seq = tokenizer.texts_to_sequences(X_test)\n",
    "\n",
    "# Pad sequences to ensure equal length\n",
    "max_len = max(len(seq) for seq in X_train_seq)  # Find max sequence length\n",
    "X_train_pad = pad_sequences(X_train_seq, maxlen=max_len, padding=\"post\")\n",
    "X_test_pad = pad_sequences(X_test_seq, maxlen=max_len, padding=\"post\")\n",
    "\n",
    "print(\"Shape of Training Data:\", X_train_pad.shape)\n",
    "print(\"Shape of Testing Data:\", X_test_pad.shape)"
   ]
  },
  {
   "cell_type": "code",
   "execution_count": null,
   "id": "3fc4b722",
   "metadata": {},
   "outputs": [],
   "source": [
    "class ResumeDataset(Dataset):\n",
    "    def __init__(self, texts, labels):\n",
    "        self.texts = torch.tensor(texts, dtype=torch.float32)\n",
    "        self.labels = torch.tensor(labels, dtype=torch.long)\n",
    "\n",
    "    def __len__(self):\n",
    "        return len(self.texts)\n",
    "\n",
    "    def __getitem__(self, idx):\n",
    "        return self.texts[idx], self.labels[idx]\n",
    "\n",
    "# Create PyTorch datasets\n",
    "train_dataset = ResumeDataset(X_train_pad, y_train_encoded)\n",
    "test_dataset = ResumeDataset(X_test_pad, y_test_encoded)\n",
    "\n",
    "# Create data loaders\n",
    "train_loader = DataLoader(train_dataset, batch_size=32, shuffle=True)\n",
    "test_loader = DataLoader(test_dataset, batch_size=32)"
   ]
  },
  {
   "cell_type": "code",
   "execution_count": 40,
   "id": "2bb5b4de",
   "metadata": {},
   "outputs": [
    {
     "name": "stdout",
     "output_type": "stream",
     "text": [
      "LSTMClassifier(\n",
      "  (embedding): Embedding(5000, 128)\n",
      "  (lstm): LSTM(128, 64, batch_first=True)\n",
      "  (fc): Linear(in_features=64, out_features=3, bias=True)\n",
      ")\n"
     ]
    }
   ],
   "source": [
    "class LSTMClassifier(nn.Module):\n",
    "    def __init__(self, vocab_size, embedding_dim, hidden_dim, output_dim):\n",
    "        super(LSTMClassifier, self).__init__()\n",
    "        self.embedding = nn.Embedding(vocab_size, embedding_dim)\n",
    "        self.lstm = nn.LSTM(embedding_dim, hidden_dim, batch_first=True)\n",
    "        self.fc = nn.Linear(hidden_dim, output_dim)\n",
    "    \n",
    "    def forward(self, x):\n",
    "        x = self.embedding(x.long())  # Convert to embedding\n",
    "        lstm_out, _ = self.lstm(x)\n",
    "        final_out = lstm_out[:, -1, :]  # Take last timestep output\n",
    "        return self.fc(final_out)\n",
    "\n",
    "# Model parameters\n",
    "vocab_size = 5000\n",
    "embedding_dim = 128\n",
    "hidden_dim = 64\n",
    "output_dim = len(label_mapping)\n",
    "\n",
    "# Instantiate model\n",
    "model = LSTMClassifier(vocab_size, embedding_dim, hidden_dim, output_dim)\n",
    "print(model)"
   ]
  },
  {
   "cell_type": "code",
   "execution_count": null,
   "id": "44d2fb9e",
   "metadata": {},
   "outputs": [],
   "source": [
    "# Define loss function and optimizer\n",
    "criterion = nn.CrossEntropyLoss()\n",
    "optimizer = optim.Adam(model.parameters(), lr=0.001)\n",
    "\n",
    "# Training loop\n",
    "num_epochs = 100\n",
    "for epoch in range(num_epochs):\n",
    "    model.train()\n",
    "    total_loss = 0\n",
    "    for texts, labels in train_loader:\n",
    "        optimizer.zero_grad()\n",
    "        outputs = model(texts)\n",
    "        loss = criterion(outputs, labels)\n",
    "        loss.backward()\n",
    "        optimizer.step()\n",
    "        total_loss += loss.item()\n",
    "    \n",
    "    print(f\"Epoch {epoch+1}/{num_epochs}, Loss: {total_loss:.4f}\")"
   ]
  },
  {
   "cell_type": "code",
   "execution_count": 44,
   "id": "684a5e07",
   "metadata": {},
   "outputs": [
    {
     "name": "stdout",
     "output_type": "stream",
     "text": [
      "Test Accuracy: 0.33\n"
     ]
    }
   ],
   "source": [
    "model.eval()\n",
    "correct = 0\n",
    "total = 0\n",
    "\n",
    "with torch.no_grad():\n",
    "    for texts, labels in test_loader:\n",
    "        outputs = model(texts)\n",
    "        predicted = torch.argmax(outputs, dim=1)\n",
    "        correct += (predicted == labels).sum().item()\n",
    "        total += labels.size(0)\n",
    "\n",
    "accuracy = correct / total\n",
    "print(f\"Test Accuracy: {accuracy:.2f}\")"
   ]
  },
  {
   "cell_type": "code",
   "execution_count": 46,
   "id": "7e47ebf2",
   "metadata": {},
   "outputs": [
    {
     "name": "stdout",
     "output_type": "stream",
     "text": [
      "Predicted Category: BANKING\n"
     ]
    }
   ],
   "source": [
    "sample_text = [\"Experienced financial analyst with expertise in investment banking.\"]\n",
    "sample_text = [clean_text(text) for text in sample_text]\n",
    "sample_seq = tokenizer.texts_to_sequences(sample_text)\n",
    "sample_pad = pad_sequences(sample_seq, maxlen=max_len, padding=\"post\")\n",
    "\n",
    "sample_tensor = torch.tensor(sample_pad, dtype=torch.float32)\n",
    "\n",
    "model.eval()\n",
    "with torch.no_grad():\n",
    "    output = model(sample_tensor)\n",
    "    predicted_label = torch.argmax(output, dim=1).item()\n",
    "\n",
    "print(f\"Predicted Category: {label_encoder.inverse_transform([predicted_label])[0]}\")"
   ]
  }
 ],
 "metadata": {
  "kernelspec": {
   "display_name": ".venv",
   "language": "python",
   "name": "python3"
  },
  "language_info": {
   "codemirror_mode": {
    "name": "ipython",
    "version": 3
   },
   "file_extension": ".py",
   "mimetype": "text/x-python",
   "name": "python",
   "nbconvert_exporter": "python",
   "pygments_lexer": "ipython3",
   "version": "3.12.6"
  }
 },
 "nbformat": 4,
 "nbformat_minor": 5
}
